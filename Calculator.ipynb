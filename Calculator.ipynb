{
 "cells": [
  {
   "cell_type": "code",
   "execution_count": 14,
   "metadata": {},
   "outputs": [],
   "source": [
    "import tkinter as Tk\n",
    "import pandas as pd\n",
    "import numpy as np\n",
    "import re\n",
    "from ttkwidgets.autocomplete import AutocompleteCombobox\n",
    "from tkinter import END\n",
    "from io import BytesIO\n",
    "import requests\n"
   ]
  },
  {
   "cell_type": "code",
   "execution_count": 15,
   "metadata": {},
   "outputs": [
    {
     "data": {
      "text/html": [
       "<div>\n",
       "<style scoped>\n",
       "    .dataframe tbody tr th:only-of-type {\n",
       "        vertical-align: middle;\n",
       "    }\n",
       "\n",
       "    .dataframe tbody tr th {\n",
       "        vertical-align: top;\n",
       "    }\n",
       "\n",
       "    .dataframe thead th {\n",
       "        text-align: right;\n",
       "    }\n",
       "</style>\n",
       "<table border=\"1\" class=\"dataframe\">\n",
       "  <thead>\n",
       "    <tr style=\"text-align: right;\">\n",
       "      <th></th>\n",
       "      <th>School name</th>\n",
       "      <th>Country</th>\n",
       "      <th>Intl GPA</th>\n",
       "      <th>US GPA</th>\n",
       "      <th>Tier</th>\n",
       "    </tr>\n",
       "  </thead>\n",
       "  <tbody>\n",
       "    <tr>\n",
       "      <th>0</th>\n",
       "      <td>Aligarh Muslim University</td>\n",
       "      <td>India</td>\n",
       "      <td>10/8.5/7/6.5/6/4</td>\n",
       "      <td>4.0/3.6/3.3/3.0/2.5/1.0</td>\n",
       "      <td>Tier III College</td>\n",
       "    </tr>\n",
       "    <tr>\n",
       "      <th>1</th>\n",
       "      <td>Amity University</td>\n",
       "      <td>India</td>\n",
       "      <td>10/8.5/6.5/6.0</td>\n",
       "      <td>4.0/3.6/3.0/2.0</td>\n",
       "      <td>Tier III College</td>\n",
       "    </tr>\n",
       "    <tr>\n",
       "      <th>2</th>\n",
       "      <td>Anna University, Chennai</td>\n",
       "      <td>India</td>\n",
       "      <td>10/9/8/7/6</td>\n",
       "      <td>4.0/3.7/3.0/2.0/1.7</td>\n",
       "      <td>Tier III College</td>\n",
       "    </tr>\n",
       "    <tr>\n",
       "      <th>3</th>\n",
       "      <td>B.S. Abdur Rahman University</td>\n",
       "      <td>India</td>\n",
       "      <td>10/8/7/6</td>\n",
       "      <td>4.0/3.0/2.0/1.0</td>\n",
       "      <td>Tier III College</td>\n",
       "    </tr>\n",
       "    <tr>\n",
       "      <th>4</th>\n",
       "      <td>Banasthali University</td>\n",
       "      <td>India</td>\n",
       "      <td>100/60/48/36</td>\n",
       "      <td>4.0/3.6/3.0/2.0</td>\n",
       "      <td>Tier III College</td>\n",
       "    </tr>\n",
       "  </tbody>\n",
       "</table>\n",
       "</div>"
      ],
      "text/plain": [
       "                    School name Country          Intl GPA  \\\n",
       "0     Aligarh Muslim University   India  10/8.5/7/6.5/6/4   \n",
       "1              Amity University   India    10/8.5/6.5/6.0   \n",
       "2      Anna University, Chennai   India        10/9/8/7/6   \n",
       "3  B.S. Abdur Rahman University   India          10/8/7/6   \n",
       "4         Banasthali University   India      100/60/48/36   \n",
       "\n",
       "                    US GPA              Tier  \n",
       "0  4.0/3.6/3.3/3.0/2.5/1.0  Tier III College  \n",
       "1          4.0/3.6/3.0/2.0  Tier III College  \n",
       "2      4.0/3.7/3.0/2.0/1.7  Tier III College  \n",
       "3          4.0/3.0/2.0/1.0  Tier III College  \n",
       "4          4.0/3.6/3.0/2.0  Tier III College  "
      ]
     },
     "execution_count": 15,
     "metadata": {},
     "output_type": "execute_result"
    }
   ],
   "source": [
    "#r = requests.get('https://docs.google.com/spreadsheets/d/1OPSaop6afLEPgxTe0J-Jd3vLZYgUAL9AIiDd9xwLB-8/edit?usp=sharing')\n",
    "#df = r.content\n",
    "    \n",
    "#data = pd.read_csv(BytesIO(data))\n",
    "#data.head()\n",
    "\n",
    "data = pd.read_csv(r\"C:\\Users\\samee\\Desktop\\AdmitKard\\GPA_with_Tier.csv\")\n",
    "data.head()"
   ]
  },
  {
   "cell_type": "code",
   "execution_count": 16,
   "metadata": {},
   "outputs": [],
   "source": [
    "options = data[\"School name\"].to_list()"
   ]
  },
  {
   "cell_type": "code",
   "execution_count": 17,
   "metadata": {},
   "outputs": [],
   "source": [
    "data = data.dropna()"
   ]
  },
  {
   "cell_type": "code",
   "execution_count": 18,
   "metadata": {},
   "outputs": [
    {
     "data": {
      "text/plain": [
       "School name    0\n",
       "Country        0\n",
       "Intl GPA       0\n",
       "US GPA         0\n",
       "Tier           0\n",
       "dtype: int64"
      ]
     },
     "execution_count": 18,
     "metadata": {},
     "output_type": "execute_result"
    }
   ],
   "source": [
    "data.isnull().sum()"
   ]
  },
  {
   "cell_type": "code",
   "execution_count": 19,
   "metadata": {},
   "outputs": [
    {
     "ename": "SyntaxError",
     "evalue": "invalid syntax (<ipython-input-19-ce4bc33507af>, line 66)",
     "output_type": "error",
     "traceback": [
      "\u001b[1;36m  File \u001b[1;32m\"<ipython-input-19-ce4bc33507af>\"\u001b[1;36m, line \u001b[1;32m66\u001b[0m\n\u001b[1;33m    return y = format(predict, '.2f')\u001b[0m\n\u001b[1;37m             ^\u001b[0m\n\u001b[1;31mSyntaxError\u001b[0m\u001b[1;31m:\u001b[0m invalid syntax\n"
     ]
    }
   ],
   "source": [
    "def revisedGPA(list_,max_gpa): #for conversion of original list to corresponding max GPA list\n",
    "    factor = float(max_gpa)/list_[0]\n",
    "    r_list_ = []\n",
    "    for i in list_:\n",
    "        r_list_.append(i*factor)\n",
    "    return r_list_\n",
    "\n",
    "def callCalculator(gpa,sc_name,tier,percentage, max_gpa): \n",
    "    if ( gpa >= float(max_gpa) ):\n",
    "        return 4 \n",
    "    if(percentage == 'Percentage'): \n",
    "        gpa = gpa/10\n",
    "        max_gpa = float(max_gpa)/10\n",
    "    school = data.loc[data['School name'] == sc_name] #statement to search if school is present or not\n",
    "    if (len(school)): #checking if school is present\n",
    "            Intl_GPA = school['Intl GPA'].iloc[0].split('/')\n",
    "            Intl_GPA = [float(x) for x in Intl_GPA]\n",
    "            Intl_GPA.append(0)\n",
    "            \n",
    "            Intl_GPA = revisedGPA(Intl_GPA,max_gpa) #for the new gpa list\n",
    "            x = np.array(Intl_GPA).reshape(len(Intl_GPA),1)\n",
    "            US_GPA = school['US GPA'].iloc[0].split('/')\n",
    "            US_GPA = [float(x) for x in US_GPA]\n",
    "            US_GPA.append(0)\n",
    "            #US_GPA = Addmax(US_GPA,max_gpa)\n",
    "            \n",
    "            #type(US_GPA[0])\n",
    "            #y = np.array(US_GPA).reshape(len(US_GPA),1)\n",
    "    else:\n",
    "            college_tier = data.loc[data['Tier'] == tier]\n",
    "            Intl_GPA = []\n",
    "            for i in range(len(college_tier)): \n",
    "                Intl = college_tier['Intl GPA'].iloc[i].split('/')\n",
    "                Intl = [float(x) for x in Intl]\n",
    "                Intl.append(0)\n",
    "                #x = np.array(Intl_GPA).reshape(len(Intl_GPA),1)\n",
    "                US = college_tier['US GPA'].iloc[i].split('/')\n",
    "                US = [float(x) for x in US]\n",
    "                US.append(0)\n",
    "                if(len(Intl) > len(Intl_GPA)):\n",
    "                    Intl_GPA = Intl\n",
    "                    US_GPA = US\n",
    "            Intl_GPA = revisedGPA(Intl_GPA,max_gpa) \n",
    "            \n",
    "   #Calculator function                 \n",
    "    i = len(Intl_GPA)-1\n",
    "    while(i >= 0):\n",
    "        if Intl_GPA[i]<=gpa:\n",
    "            i-=1\n",
    "            continue\n",
    "        else: \n",
    "            break\n",
    "    if(i < 0):\n",
    "        indx = 0\n",
    "    else:\n",
    "        indx = i\n",
    "           \n",
    "#Equation of line\n",
    "#Slope\n",
    "    m = (US_GPA[i] - US_GPA[i+1])/(Intl_GPA[i] - Intl_GPA[i+1])\n",
    "            #Intersect\n",
    "    c = US_GPA[i] - m*Intl_GPA[i]\n",
    "    y = m*gpa + c\n",
    "    if(y > 4):\n",
    "        return 4\n",
    "    return y = format(predict, '.2f')"
   ]
  },
  {
   "cell_type": "code",
   "execution_count": 20,
   "metadata": {},
   "outputs": [
    {
     "name": "stdout",
     "output_type": "stream",
     "text": [
      "[]\n"
     ]
    }
   ],
   "source": [
    "from tkinter import *\n",
    "from tkinter import ttk\n",
    "import tkinter.messagebox\n",
    "\n",
    "window=Tk()\n",
    "window.title('GPA Calculator')\n",
    "window.config() \n",
    "window.geometry('500x600')\n",
    "\n",
    "new_colleges = []\n",
    "def clear_frame():\n",
    "    for widgets in frame.winfo_children():\n",
    "        widgets.destroy()\n",
    "    \n",
    "def checkTier(sc_name):\n",
    "    clear_frame()\n",
    "    if(len(data.loc[data['School name'] == sc_name.get()]) == 0):\n",
    "        tkinter.messagebox.showinfo(\"Instruction\",  \"Please select tier\")\n",
    "        tier = createBox(\"Tier\", list(data[\"Tier\"].unique()),frame)\n",
    "        Label(frame, text=\"*Instructions : Please note that this will calculate the relative CGPA as per the California University cgpa calculation system !! \", font=('Calibri 8')).pack()\n",
    "        Label(frame, text=\" If your college comes under Tier III, please select respective option \", font=('Calibri 8')).pack()\n",
    "        new_colleges.append(sc_name.get())\n",
    "    else:\n",
    "        tier = \"None\"\n",
    "    percentage = createBox(\"Percentage/CGPA\", ['Percentage','CGPA'],frame)\n",
    "    Label(frame, text=\"*Instructions : If your college calculates grades in percentage then choose 'Percentage' option \", font=('Calibri 8')).pack()\n",
    "    \n",
    "    Label(frame, text=\"Max GPA/Percentage\", font=('Calibri 14')).pack()\n",
    "    Label(frame, text=\"*Instructions: For eg: 10 (if your college calculates grades with respect to '10' ), enter '10' \", font=('Calibri 8')).pack()\n",
    "    max_gpa=Entry(frame, width=35)\n",
    "    max_gpa.pack()\n",
    "    \n",
    "    Label(frame, text=\"Enter GPA/Percentage\", font=('Calibri 10')).pack()\n",
    "    gpa=Entry(frame, width=35)\n",
    "    gpa.pack()\n",
    "    output=Label(frame, font=('Calibri 15'))\n",
    "    Button(frame, text=\"Calculate\", command= lambda : getUSgpa(gpa,output,tier,percentage,max_gpa)).pack()\n",
    "\n",
    "def getUSgpa(gpa,output,tier,percentage,max_gpa):\n",
    "    gpa_get = float(gpa.get())\n",
    "    if(tier == \"None\"):\n",
    "        us_gpa = callCalculator(gpa_get,sc_name.get(),tier,percentage.get(),max_gpa.get())\n",
    "    else:\n",
    "        us_gpa = callCalculator(gpa_get,sc_name.get(),tier.get(),percentage.get(),max_gpa.get())\n",
    "    output.config(text=us_gpa)\n",
    "    output.pack(pady=20)\n",
    "     #Label(window, text=f'{us_gpa}', pady=20, bg='#ffbf00').pack()\n",
    "\n",
    "def createBox(txt, values,win):\n",
    "    label = Label(win, text=txt)\n",
    "    label.config(font=(\"Courier\",15))\n",
    "    label.pack()\n",
    "    entry = AutocompleteCombobox(win, width=70, completevalues=values )\n",
    "    entry.pack()\n",
    "    return entry\n",
    "\n",
    "sc_name = createBox(\"School/University Name\", data[\"School name\"].to_list(),window)\n",
    "Label(window, text=\"*Instructions : If your college is not listed above, press Enter!\", font=('Calibri 8')).pack()\n",
    "Button(window,text = \"Enter\",command= lambda : checkTier(sc_name)).pack()\n",
    "frame = Frame(window)\n",
    "frame.pack(side=\"top\", expand=True, fill=\"both\")\n",
    "\n",
    "window.mainloop()\n",
    "print(new_colleges)"
   ]
  },
  {
   "cell_type": "code",
   "execution_count": 101,
   "metadata": {},
   "outputs": [
    {
     "data": {
      "text/plain": [
       "['Cxyz']"
      ]
     },
     "execution_count": 101,
     "metadata": {},
     "output_type": "execute_result"
    }
   ],
   "source": [
    "new_colleges"
   ]
  },
  {
   "cell_type": "code",
   "execution_count": null,
   "metadata": {},
   "outputs": [],
   "source": []
  }
 ],
 "metadata": {
  "kernelspec": {
   "display_name": "Python 3",
   "language": "python",
   "name": "python3"
  },
  "language_info": {
   "codemirror_mode": {
    "name": "ipython",
    "version": 3
   },
   "file_extension": ".py",
   "mimetype": "text/x-python",
   "name": "python",
   "nbconvert_exporter": "python",
   "pygments_lexer": "ipython3",
   "version": "3.8.5"
  }
 },
 "nbformat": 4,
 "nbformat_minor": 4
}
